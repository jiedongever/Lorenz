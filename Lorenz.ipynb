{
 "metadata": {
  "kernelspec": {
   "display_name": "C++14",
   "language": "C++14",
   "name": "xcpp14"
  },
  "language_info": {
   "codemirror_mode": "text/x-c++src",
   "file_extension": ".cpp",
   "mimetype": "text/x-c++src",
   "name": "c++",
   "version": "14"
  },
  "pycharm": {
   "stem_cell": {
    "cell_type": "raw",
    "source": [],
    "metadata": {
     "collapsed": false
    }
   }
  }
 },
 "nbformat_minor": 4,
 "nbformat": 4,
 "cells": [
  {
   "cell_type": "raw",
   "source": [
    "common system things, always run this cell after the kernel restart"
   ],
   "metadata": {}
  },
  {
   "cell_type": "code",
   "source": [
    "#pragma cling load(\"libcurl\")\n",
    "#include \"./lib/everest.hpp\"\n",
    "#include <list>\n",
    "using namespace TEMPLET;\n",
    "using namespace std;"
   ],
   "metadata": {
    "trusted": true
   },
   "execution_count": null,
   "outputs": []
  },
  {
   "cell_type": "raw",
   "source": [
    "run this cell once to get the access_token and the app_description "
   ],
   "metadata": {}
  },
  {
   "cell_type": "code",
   "source": [
    "{\n",
    "    taskengine eng(\"login\", \"password\");\n",
    "    string token;\n",
    "    eng.get_access_token(token);\n",
    "    eng.free_access_token();\n",
    "    cout <<\"access token: \"<< token << endl;\n",
    "    eng.get_app_description(\"app name(e.g. squared-number)\");    \n",
    "}"
   ],
   "metadata": {
    "trusted": true
   },
   "execution_count": null,
   "outputs": []
  },
  {
   "cell_type": "raw",
   "source": [
    "the main settings"
   ],
   "metadata": {}
  },
  {
   "cell_type": "code",
   "source": [
    "const int NUM_WORKERS = 5;\n",
    "const int TASK_TIME = 1 * 1000; // ms\n",
    "const int NUM_TASKS = 10;\n",
    "double arr[NUM_TASKS];\n",
    "int cur;"
   ],
   "metadata": {
    "trusted": true
   },
   "execution_count": null,
   "outputs": []
  },
  {
   "cell_type": "raw",
   "source": [
    "the worker class, app logic is here \n",
    "/**/ this marks problem specific code"
   ],
   "metadata": {}
  },
  {
   "cell_type": "code",
   "source": [
    "struct worker;\n",
    "list<worker*> idle_worker_list;"
   ],
   "metadata": {
    "trusted": true
   },
   "execution_count": null,
   "outputs": []
  },
  {
   "cell_type": "code",
   "source": [
    "struct worker:task {\n",
    "    /**/\n",
    "\tint pos_in_arr;\n",
    "\t/**/\n",
    "\tworker():task(){}\n",
    "    \n",
    "    void on_worker_ready(){\n",
    "        // put the result\n",
    "        /**/\n",
    "        json& out=result();\n",
    "        arr[pos_in_arr] = out[\"squared-n\"];\n",
    "        /**/\n",
    "        \n",
    "        idle_worker_list.push_back(this);\n",
    "        run_tasks();\n",
    "    }\n",
    "    \n",
    "    static void run_tasks(){\n",
    "        // run tasks while having tasks and free workers\n",
    "        while(!idle_worker_list.empty() && /**/cur < NUM_TASKS/**/){\n",
    "            worker*w = idle_worker_list.front();\n",
    "            idle_worker_list.pop_front();\n",
    "\n",
    "            /**/\n",
    "            json in;\n",
    "            in[\"name\"] = \"Lorentz system characteristics\";\n",
    "            in[\"inputs\"][\"n\"] = arr[cur];\n",
    "            in[\"inputs\"][\"time\"] = TASK_TIME;\n",
    "            w->input(in);\n",
    "            w->pos_in_arr = cur;\n",
    "            cur++;\n",
    "            /**/\n",
    "            \n",
    "            w->submit([=](){w->on_worker_ready();});\n",
    "        }\n",
    "    }\n",
    "};"
   ],
   "metadata": {
    "trusted": true
   },
   "execution_count": null,
   "outputs": []
  },
  {
   "cell_type": "raw",
   "source": "aux cell for gettig Everest access token and app id",
   "metadata": {}
  },
  {
   "cell_type": "raw",
   "source": "the main function",
   "metadata": {}
  },
  {
   "cell_type": "code",
   "source": "taskengine eng(\"access_token\");\n\nworker worker_arr[NUM_WORKERS];\n    \nfor(int i=0;i<NUM_WORKERS;i++){\n    worker_arr[i].set_app_id(\"app_id\");\n    worker_arr[i].set_engine(eng);\n    idle_worker_list.push_back(&worker_arr[i]);\n}\n\n/**/\nfor(int i=0;i<NUM_TASKS;i++){ arr[i] = i; cout << \"arr[\" << i << \"]=\" << arr[i] << endl;}\ncur = 0;\n/**/\n\nworker::run_tasks(); // submitting the first portion of tasks\neng.wait_all();\n\n/**/\ncout << \"----------\\n\";\nfor(int i=0;i<NUM_TASKS;i++)  cout << \"arr[\" << i << \"]=\" << arr[i] << endl;;\n/**/",
   "metadata": {
    "trusted": true
   },
   "execution_count": null,
   "outputs": []
  },
  {
   "cell_type": "code",
   "source": "",
   "metadata": {
    "trusted": true
   },
   "execution_count": null,
   "outputs": []
  }
 ]
}